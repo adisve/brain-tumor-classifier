{
 "cells": [
  {
   "cell_type": "code",
   "execution_count": null,
   "metadata": {},
   "outputs": [],
   "source": [
    "from utils._model import build_and_compile_model, train_model_with_kfold, train_models_with_kfold, display_summaries, build_and_compile_model_custom\n",
    "from utils._evaluation import evaluate_models, generate_reports, generate_single_report\n",
    "from tensorflow.keras.preprocessing.image import ImageDataGenerator\n",
    "from utils._image import display_images_from_subfolders\n",
    "from sklearn.model_selection import train_test_split\n",
    "from utils._data import get_subfolders, load_data\n",
    "from tensorflow.keras.utils import to_categorical\n",
    "from sklearn.utils import shuffle\n",
    "from utils._plot import plot"
   ]
  },
  {
   "cell_type": "code",
   "execution_count": null,
   "metadata": {},
   "outputs": [],
   "source": [
    "import yaml\n",
    "\n",
    "with open(\"config.yaml\", 'r') as stream:\n",
    "    try:\n",
    "        config = yaml.safe_load(stream)\n",
    "    except yaml.YAMLError as exc:\n",
    "        print(exc)"
   ]
  },
  {
   "cell_type": "code",
   "execution_count": null,
   "metadata": {},
   "outputs": [],
   "source": [
    "labels = ['glioma', 'meningioma', 'no_tumor', 'pituitary']\n",
    "testing_dir = 'Testing/'\n",
    "training_dir = 'Training/'"
   ]
  },
  {
   "cell_type": "code",
   "execution_count": null,
   "metadata": {},
   "outputs": [],
   "source": [
    "subfolders = get_subfolders(training_dir)\n",
    "display_images_from_subfolders(training_dir, subfolders)"
   ]
  },
  {
   "cell_type": "markdown",
   "metadata": {},
   "source": [
    "## Creating training and testing data frames"
   ]
  },
  {
   "cell_type": "code",
   "execution_count": null,
   "metadata": {},
   "outputs": [],
   "source": [
    "X_train, y_train = load_data(training_dir, labels)\n",
    "X_test, y_test = load_data(testing_dir, labels)"
   ]
  },
  {
   "cell_type": "code",
   "execution_count": null,
   "metadata": {},
   "outputs": [],
   "source": [
    "X_train, y_train = shuffle(X_train, y_train, random_state=42)\n",
    "\n",
    "y_train = to_categorical(y_train) # One-hot encoding of integer labels\n",
    "y_test = to_categorical(y_test)\n",
    "\n",
    "X_train, X_val, y_train, y_val = train_test_split(X_train, y_train, test_size=0.2, random_state=42) # 20% of the data is validation data"
   ]
  },
  {
   "cell_type": "code",
   "execution_count": null,
   "metadata": {},
   "outputs": [],
   "source": [
    "image_gen = ImageDataGenerator(\n",
    "    rotation_range=20,\n",
    "    zoom_range=0.15,\n",
    "    width_shift_range=0.2,\n",
    "    height_shift_range=0.2,\n",
    "    shear_range=0.15,\n",
    "    horizontal_flip=True,\n",
    "    fill_mode='nearest'\n",
    ")\n",
    "\n",
    "image_gen.fit(X_train)"
   ]
  },
  {
   "cell_type": "markdown",
   "metadata": {},
   "source": [
    "## Model Creation"
   ]
  },
  {
   "cell_type": "code",
   "execution_count": null,
   "metadata": {},
   "outputs": [],
   "source": [
    "models = {\n",
    "    'EfficientNet': build_and_compile_model(architecture='EfficientNet', config=config),\n",
    "    'DenseNet': build_and_compile_model(architecture='DenseNet', config=config),\n",
    "    'MobileNet': build_and_compile_model(architecture='MobileNet', config=config),\n",
    "    'ResNet50': build_and_compile_model(architecture='ResNet50', config=config)\n",
    "}\n",
    "\n",
    "display_summaries(models)"
   ]
  },
  {
   "cell_type": "markdown",
   "metadata": {},
   "source": [
    "## Model Training\n",
    "\n",
    "Instead of training each model once on a static train/validation split, each model will now be trained and evaluated n_splits times. Each time it will be with a different train/validation set derived from the original X_train and y_train. In other words, we split the data into k subsets and validate the model k times."
   ]
  },
  {
   "cell_type": "code",
   "execution_count": null,
   "metadata": {},
   "outputs": [],
   "source": [
    "# all_metrics = train_models_with_kfold(models, X_train, y_train, image_gen=image_gen, config=config)\n",
    "\n",
    "evaluate_models(models, X_test, y_test)\n",
    "generate_reports(all_metrics, X_test, y_test, models)"
   ]
  },
  {
   "cell_type": "markdown",
   "metadata": {},
   "source": [
    "## Create custom Convolutional Neural Network"
   ]
  },
  {
   "cell_type": "code",
   "execution_count": null,
   "metadata": {},
   "outputs": [],
   "source": [
    "model = build_and_compile_model_custom(num_conv_blocks=5, num_dense_layers=2, config=config)\n",
    "model.summary()"
   ]
  },
  {
   "cell_type": "code",
   "execution_count": null,
   "metadata": {},
   "outputs": [],
   "source": [
    "metrics = train_model_with_kfold(model, 'CustomNet', X_train, y_train, image_gen, n_splits=5, config=config)\n",
    "generate_single_report('CustomNet', metrics, model, X_test, y_test)"
   ]
  }
 ],
 "metadata": {
  "kernelspec": {
   "display_name": ".venv",
   "language": "python",
   "name": "python3"
  },
  "language_info": {
   "codemirror_mode": {
    "name": "ipython",
    "version": 3
   },
   "file_extension": ".py",
   "mimetype": "text/x-python",
   "name": "python",
   "nbconvert_exporter": "python",
   "pygments_lexer": "ipython3",
   "version": "3.11.1"
  }
 },
 "nbformat": 4,
 "nbformat_minor": 2
}
