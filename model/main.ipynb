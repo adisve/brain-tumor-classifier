{
 "cells": [
  {
   "cell_type": "code",
   "execution_count": 46,
   "metadata": {},
   "outputs": [],
   "source": [
    "from utils._model import build_and_compile_model, train_model_with_kfold, train_models_with_kfold, display_summaries, build_and_compile_model_custom\n",
    "from utils._evaluation import evaluate_models, generate_reports, generate_single_report\n",
    "from tensorflow.keras.preprocessing.image import ImageDataGenerator\n",
    "from utils._image import display_images_from_subfolders\n",
    "from sklearn.model_selection import train_test_split\n",
    "from utils._data import get_subfolders, load_data\n",
    "from tensorflow.keras.utils import to_categorical\n",
    "from sklearn.utils import shuffle\n",
    "from utils._plot import plot"
   ]
  },
  {
   "cell_type": "code",
   "execution_count": 38,
   "metadata": {},
   "outputs": [],
   "source": [
    "import yaml\n",
    "\n",
    "with open(\"config.yaml\", 'r') as stream:\n",
    "    try:\n",
    "        config = yaml.safe_load(stream)\n",
    "    except yaml.YAMLError as exc:\n",
    "        print(exc)"
   ]
  },
  {
   "cell_type": "code",
   "execution_count": null,
   "metadata": {},
   "outputs": [],
   "source": [
    "labels = ['glioma', 'meningioma', 'no_tumor', 'pituitary']\n",
    "testing_dir = 'Testing/'\n",
    "training_dir = 'Training/'"
   ]
  },
  {
   "cell_type": "code",
   "execution_count": null,
   "metadata": {},
   "outputs": [],
   "source": [
    "subfolders = get_subfolders(training_dir)\n",
    "display_images_from_subfolders(training_dir, subfolders)"
   ]
  },
  {
   "attachments": {},
   "cell_type": "markdown",
   "metadata": {},
   "source": [
    "## Creating training and testing data frames"
   ]
  },
  {
   "cell_type": "code",
   "execution_count": null,
   "metadata": {},
   "outputs": [],
   "source": [
    "X_train, y_train = load_data(training_dir, labels)\n",
    "X_test, y_test = load_data(testing_dir, labels)"
   ]
  },
  {
   "cell_type": "code",
   "execution_count": null,
   "metadata": {},
   "outputs": [],
   "source": [
    "X_train, y_train = shuffle(X_train, y_train, random_state=42)\n",
    "\n",
    "y_train = to_categorical(y_train) # One-hot encoding of integer labels\n",
    "y_test = to_categorical(y_test)\n",
    "\n",
    "X_train, X_val, y_train, y_val = train_test_split(X_train, y_train, test_size=0.2, random_state=42) # 20% of the data is validation data"
   ]
  },
  {
   "cell_type": "code",
   "execution_count": null,
   "metadata": {},
   "outputs": [],
   "source": [
    "image_gen = ImageDataGenerator(\n",
    "    rotation_range=20,\n",
    "    zoom_range=0.15,\n",
    "    width_shift_range=0.2,\n",
    "    height_shift_range=0.2,\n",
    "    shear_range=0.15,\n",
    "    horizontal_flip=True,\n",
    "    fill_mode='nearest'\n",
    ")\n",
    "\n",
    "image_gen.fit(X_train)"
   ]
  },
  {
   "attachments": {},
   "cell_type": "markdown",
   "metadata": {},
   "source": [
    "## Model Creation"
   ]
  },
  {
   "cell_type": "code",
   "execution_count": null,
   "metadata": {},
   "outputs": [],
   "source": [
    "models = {\n",
    "    'EfficientNet': build_and_compile_model(architecture='EfficientNet', config=config),\n",
    "    'DenseNet': build_and_compile_model(architecture='DenseNet', config=config),\n",
    "    'MobileNet': build_and_compile_model(architecture='MobileNet', config=config),\n",
    "    'ResNet50': build_and_compile_model(architecture='ResNet50', config=config)\n",
    "}\n",
    "\n",
    "display_summaries(models)"
   ]
  },
  {
   "attachments": {},
   "cell_type": "markdown",
   "metadata": {},
   "source": [
    "## Model Training\n",
    "\n",
    "Instead of training each model once on a static train/validation split, each model will now be trained and evaluated n_splits times. Each time it will be with a different train/validation set derived from the original X_train and y_train. In other words, we split the data into k subsets and validate the model k times."
   ]
  },
  {
   "cell_type": "code",
   "execution_count": null,
   "metadata": {},
   "outputs": [],
   "source": [
    "all_metrics = train_models_with_kfold(models, X_train, y_train, image_gen=image_gen, config=config)\n",
    "\n",
    "evaluate_models(models, X_test, y_test)\n",
    "generate_reports(all_metrics, X_test, y_test, models)"
   ]
  },
  {
   "attachments": {},
   "cell_type": "markdown",
   "metadata": {},
   "source": [
    "## Create custom Convolutional Neural Network"
   ]
  },
  {
   "cell_type": "code",
   "execution_count": 50,
   "metadata": {},
   "outputs": [
    {
     "name": "stdout",
     "output_type": "stream",
     "text": [
      "Model: \"sequential_22\"\n",
      "_________________________________________________________________\n",
      " Layer (type)                Output Shape              Param #   \n",
      "=================================================================\n",
      " conv2d_44 (Conv2D)          (None, 222, 222, 32)      896       \n",
      "                                                                 \n",
      " batch_normalization_18 (Ba  (None, 222, 222, 32)      128       \n",
      " tchNormalization)                                               \n",
      "                                                                 \n",
      " leaky_re_lu_18 (LeakyReLU)  (None, 222, 222, 32)      0         \n",
      "                                                                 \n",
      " max_pooling2d_26 (MaxPooli  (None, 111, 111, 32)      0         \n",
      " ng2D)                                                           \n",
      "                                                                 \n",
      " conv2d_45 (Conv2D)          (None, 109, 109, 64)      18496     \n",
      "                                                                 \n",
      " batch_normalization_19 (Ba  (None, 109, 109, 64)      256       \n",
      " tchNormalization)                                               \n",
      "                                                                 \n",
      " leaky_re_lu_19 (LeakyReLU)  (None, 109, 109, 64)      0         \n",
      "                                                                 \n",
      " max_pooling2d_27 (MaxPooli  (None, 54, 54, 64)        0         \n",
      " ng2D)                                                           \n",
      "                                                                 \n",
      " conv2d_46 (Conv2D)          (None, 52, 52, 128)       73856     \n",
      "                                                                 \n",
      " batch_normalization_20 (Ba  (None, 52, 52, 128)       512       \n",
      " tchNormalization)                                               \n",
      "                                                                 \n",
      " leaky_re_lu_20 (LeakyReLU)  (None, 52, 52, 128)       0         \n",
      "                                                                 \n",
      " max_pooling2d_28 (MaxPooli  (None, 26, 26, 128)       0         \n",
      " ng2D)                                                           \n",
      "                                                                 \n",
      " flatten_4 (Flatten)         (None, 86528)             0         \n",
      "                                                                 \n",
      " dense_16 (Dense)            (None, 128)               11075712  \n",
      "                                                                 \n",
      " batch_normalization_21 (Ba  (None, 128)               512       \n",
      " tchNormalization)                                               \n",
      "                                                                 \n",
      " leaky_re_lu_21 (LeakyReLU)  (None, 128)               0         \n",
      "                                                                 \n",
      " dropout_8 (Dropout)         (None, 128)               0         \n",
      "                                                                 \n",
      " dense_17 (Dense)            (None, 64)                8256      \n",
      "                                                                 \n",
      " batch_normalization_22 (Ba  (None, 64)                256       \n",
      " tchNormalization)                                               \n",
      "                                                                 \n",
      " leaky_re_lu_22 (LeakyReLU)  (None, 64)                0         \n",
      "                                                                 \n",
      " dropout_9 (Dropout)         (None, 64)                0         \n",
      "                                                                 \n",
      " dense_18 (Dense)            (None, 4)                 260       \n",
      "                                                                 \n",
      "=================================================================\n",
      "Total params: 11179140 (42.65 MB)\n",
      "Trainable params: 11178308 (42.64 MB)\n",
      "Non-trainable params: 832 (3.25 KB)\n",
      "_________________________________________________________________\n"
     ]
    }
   ],
   "source": [
    "model = build_and_compile_model_custom(num_conv_blocks=5, num_dense_layers=2, config=config)\n",
    "model.summary()"
   ]
  },
  {
   "cell_type": "code",
   "execution_count": 51,
   "metadata": {},
   "outputs": [
    {
     "name": "stdout",
     "output_type": "stream",
     "text": [
      "Training CustomNet on Fold 1\n",
      "Epoch 1/10\n",
      "128/128 [==============================] - ETA: 0s - loss: 1.1675 - accuracy: 0.5436 - auc: 0.7914\n",
      "Epoch 1: val_loss improved from inf to 2.72469, saving model to CustomNet.h5\n",
      "128/128 [==============================] - 131s 1s/step - loss: 1.1675 - accuracy: 0.5436 - auc: 0.7914 - val_loss: 2.7247 - val_accuracy: 0.3896 - val_auc: 0.6114 - lr: 0.0010\n",
      "Epoch 2/10\n"
     ]
    },
    {
     "name": "stderr",
     "output_type": "stream",
     "text": [
      "/Users/dzenis.madzovic/Desktop/Other Projects/brain-tumor-classifier/.venv/lib/python3.11/site-packages/keras/src/engine/training.py:3079: UserWarning: You are saving your model as an HDF5 file via `model.save()`. This file format is considered legacy. We recommend using instead the native Keras format, e.g. `model.save('my_model.keras')`.\n",
      "  saving_api.save_model(\n"
     ]
    },
    {
     "name": "stdout",
     "output_type": "stream",
     "text": [
      "128/128 [==============================] - ETA: 0s - loss: 0.9296 - accuracy: 0.6437 - auc: 0.8698\n",
      "Epoch 2: val_loss did not improve from 2.72469\n",
      "128/128 [==============================] - 128s 992ms/step - loss: 0.9296 - accuracy: 0.6437 - auc: 0.8698 - val_loss: 4.6881 - val_accuracy: 0.2364 - val_auc: 0.5476 - lr: 0.0010\n",
      "Epoch 3/10\n",
      "128/128 [==============================] - ETA: 0s - loss: 0.8225 - accuracy: 0.6911 - auc: 0.8982\n",
      "Epoch 3: val_loss did not improve from 2.72469\n",
      "128/128 [==============================] - 125s 973ms/step - loss: 0.8225 - accuracy: 0.6911 - auc: 0.8982 - val_loss: 3.5283 - val_accuracy: 0.2805 - val_auc: 0.5689 - lr: 0.0010\n",
      "Epoch 4/10\n",
      "128/128 [==============================] - ETA: 0s - loss: 0.7669 - accuracy: 0.7120 - auc: 0.9110\n",
      "Epoch 4: val_loss improved from 2.72469 to 1.20332, saving model to CustomNet.h5\n",
      "128/128 [==============================] - 126s 984ms/step - loss: 0.7669 - accuracy: 0.7120 - auc: 0.9110 - val_loss: 1.2033 - val_accuracy: 0.5810 - val_auc: 0.8090 - lr: 0.0010\n",
      "Epoch 5/10\n",
      "128/128 [==============================] - ETA: 0s - loss: 0.7095 - accuracy: 0.7323 - auc: 0.9242\n",
      "Epoch 5: val_loss improved from 1.20332 to 1.04337, saving model to CustomNet.h5\n",
      "128/128 [==============================] - 126s 977ms/step - loss: 0.7095 - accuracy: 0.7323 - auc: 0.9242 - val_loss: 1.0434 - val_accuracy: 0.5565 - val_auc: 0.8359 - lr: 0.0010\n",
      "Epoch 6/10\n",
      "128/128 [==============================] - ETA: 0s - loss: 0.6732 - accuracy: 0.7539 - auc: 0.9319\n",
      "Epoch 6: val_loss improved from 1.04337 to 0.85730, saving model to CustomNet.h5\n",
      "128/128 [==============================] - 125s 972ms/step - loss: 0.6732 - accuracy: 0.7539 - auc: 0.9319 - val_loss: 0.8573 - val_accuracy: 0.6544 - val_auc: 0.8853 - lr: 0.0010\n",
      "Epoch 7/10\n",
      "128/128 [==============================] - ETA: 0s - loss: 0.6442 - accuracy: 0.7592 - auc: 0.9372\n",
      "Epoch 7: val_loss did not improve from 0.85730\n",
      "128/128 [==============================] - 123s 958ms/step - loss: 0.6442 - accuracy: 0.7592 - auc: 0.9372 - val_loss: 1.0377 - val_accuracy: 0.6397 - val_auc: 0.8688 - lr: 0.0010\n",
      "Epoch 8/10\n",
      "128/128 [==============================] - ETA: 0s - loss: 0.6244 - accuracy: 0.7716 - auc: 0.9412\n",
      "Epoch 8: val_loss did not improve from 0.85730\n",
      "128/128 [==============================] - 123s 962ms/step - loss: 0.6244 - accuracy: 0.7716 - auc: 0.9412 - val_loss: 1.4523 - val_accuracy: 0.5923 - val_auc: 0.8387 - lr: 0.0010\n",
      "Epoch 9/10\n",
      "128/128 [==============================] - ETA: 0s - loss: 0.6085 - accuracy: 0.7769 - auc: 0.9436\n",
      "Epoch 9: val_loss improved from 0.85730 to 0.77527, saving model to CustomNet.h5\n",
      "128/128 [==============================] - 124s 965ms/step - loss: 0.6085 - accuracy: 0.7769 - auc: 0.9436 - val_loss: 0.7753 - val_accuracy: 0.6926 - val_auc: 0.9083 - lr: 0.0010\n",
      "Epoch 10/10\n",
      "128/128 [==============================] - ETA: 0s - loss: 0.6005 - accuracy: 0.7809 - auc: 0.9447\n",
      "Epoch 10: val_loss did not improve from 0.77527\n",
      "128/128 [==============================] - 124s 965ms/step - loss: 0.6005 - accuracy: 0.7809 - auc: 0.9447 - val_loss: 0.8484 - val_accuracy: 0.7029 - val_auc: 0.9167 - lr: 0.0010\n",
      "64/64 [==============================] - 7s 110ms/step - loss: 0.8484 - accuracy: 0.7029 - auc: 0.9167\n",
      "Training CustomNet on Fold 2\n",
      "Epoch 1/10\n",
      "128/128 [==============================] - ETA: 0s - loss: 0.5891 - accuracy: 0.7794 - auc: 0.9466\n",
      "Epoch 1: val_loss improved from inf to 1.41779, saving model to CustomNet.h5\n",
      "128/128 [==============================] - 125s 976ms/step - loss: 0.5891 - accuracy: 0.7794 - auc: 0.9466 - val_loss: 1.4178 - val_accuracy: 0.5795 - val_auc: 0.8333 - lr: 0.0010\n",
      "Epoch 2/10\n",
      "128/128 [==============================] - ETA: 0s - loss: 0.5717 - accuracy: 0.7956 - auc: 0.9498\n",
      "Epoch 2: val_loss did not improve from 1.41779\n",
      "128/128 [==============================] - 124s 961ms/step - loss: 0.5717 - accuracy: 0.7956 - auc: 0.9498 - val_loss: 1.5033 - val_accuracy: 0.5781 - val_auc: 0.8333 - lr: 0.0010\n",
      "Epoch 3/10\n",
      "128/128 [==============================] - ETA: 0s - loss: 0.5557 - accuracy: 0.8007 - auc: 0.9524\n",
      "Epoch 3: val_loss improved from 1.41779 to 0.82577, saving model to CustomNet.h5\n",
      "128/128 [==============================] - 123s 957ms/step - loss: 0.5557 - accuracy: 0.8007 - auc: 0.9524 - val_loss: 0.8258 - val_accuracy: 0.6765 - val_auc: 0.9037 - lr: 0.0010\n",
      "Epoch 4/10\n",
      "128/128 [==============================] - ETA: 0s - loss: 0.5566 - accuracy: 0.7938 - auc: 0.9519\n",
      "Epoch 4: val_loss did not improve from 0.82577\n",
      "128/128 [==============================] - 122s 953ms/step - loss: 0.5566 - accuracy: 0.7938 - auc: 0.9519 - val_loss: 1.0319 - val_accuracy: 0.5996 - val_auc: 0.8568 - lr: 0.0010\n",
      "Epoch 5/10\n",
      "128/128 [==============================] - ETA: 0s - loss: 0.5298 - accuracy: 0.8048 - auc: 0.9565\n",
      "Epoch 5: val_loss did not improve from 0.82577\n",
      "128/128 [==============================] - 278s 2s/step - loss: 0.5298 - accuracy: 0.8048 - auc: 0.9565 - val_loss: 1.3966 - val_accuracy: 0.6153 - val_auc: 0.8501 - lr: 0.0010\n",
      "Epoch 6/10\n",
      "128/128 [==============================] - ETA: 0s - loss: 0.5280 - accuracy: 0.8097 - auc: 0.9567\n",
      "Epoch 6: val_loss improved from 0.82577 to 0.48983, saving model to CustomNet.h5\n",
      "128/128 [==============================] - 126s 982ms/step - loss: 0.5280 - accuracy: 0.8097 - auc: 0.9567 - val_loss: 0.4898 - val_accuracy: 0.8282 - val_auc: 0.9623 - lr: 0.0010\n",
      "Epoch 7/10\n",
      "128/128 [==============================] - ETA: 0s - loss: 0.5169 - accuracy: 0.8087 - auc: 0.9585\n",
      "Epoch 7: val_loss did not improve from 0.48983\n",
      "128/128 [==============================] - 124s 963ms/step - loss: 0.5169 - accuracy: 0.8087 - auc: 0.9585 - val_loss: 1.6526 - val_accuracy: 0.5438 - val_auc: 0.8064 - lr: 0.0010\n",
      "Epoch 8/10\n",
      "128/128 [==============================] - ETA: 0s - loss: 0.4997 - accuracy: 0.8188 - auc: 0.9613\n",
      "Epoch 8: val_loss did not improve from 0.48983\n",
      "128/128 [==============================] - 124s 968ms/step - loss: 0.4997 - accuracy: 0.8188 - auc: 0.9613 - val_loss: 0.6840 - val_accuracy: 0.7465 - val_auc: 0.9374 - lr: 0.0010\n",
      "Epoch 9/10\n",
      "128/128 [==============================] - ETA: 0s - loss: 0.5025 - accuracy: 0.8242 - auc: 0.9604Restoring model weights from the end of the best epoch: 6.\n",
      "\n",
      "Epoch 9: ReduceLROnPlateau reducing learning rate to 0.0003000000142492354.\n",
      "\n",
      "Epoch 9: val_loss did not improve from 0.48983\n",
      "128/128 [==============================] - 122s 948ms/step - loss: 0.5025 - accuracy: 0.8242 - auc: 0.9604 - val_loss: 1.9650 - val_accuracy: 0.4949 - val_auc: 0.7744 - lr: 0.0010\n",
      "Epoch 9: early stopping\n",
      "64/64 [==============================] - 7s 109ms/step - loss: 0.4898 - accuracy: 0.8282 - auc: 0.9623\n",
      "Training CustomNet on Fold 3\n",
      "Epoch 1/10\n",
      "128/128 [==============================] - ETA: 0s - loss: 0.4876 - accuracy: 0.8284 - auc: 0.9634\n",
      "Epoch 1: val_loss improved from inf to 0.73937, saving model to CustomNet.h5\n",
      "128/128 [==============================] - 124s 963ms/step - loss: 0.4876 - accuracy: 0.8284 - auc: 0.9634 - val_loss: 0.7394 - val_accuracy: 0.7357 - val_auc: 0.9299 - lr: 3.0000e-04\n",
      "Epoch 2/10\n",
      "128/128 [==============================] - ETA: 0s - loss: 0.4749 - accuracy: 0.8301 - auc: 0.9653\n",
      "Epoch 2: val_loss improved from 0.73937 to 0.45239, saving model to CustomNet.h5\n",
      "128/128 [==============================] - 123s 946ms/step - loss: 0.4749 - accuracy: 0.8301 - auc: 0.9653 - val_loss: 0.4524 - val_accuracy: 0.8336 - val_auc: 0.9689 - lr: 3.0000e-04\n",
      "Epoch 3/10\n",
      "128/128 [==============================] - ETA: 0s - loss: 0.4569 - accuracy: 0.8371 - auc: 0.9681\n",
      "Epoch 3: val_loss did not improve from 0.45239\n",
      "128/128 [==============================] - 126s 978ms/step - loss: 0.4569 - accuracy: 0.8371 - auc: 0.9681 - val_loss: 0.4675 - val_accuracy: 0.8223 - val_auc: 0.9674 - lr: 3.0000e-04\n",
      "Epoch 4/10\n",
      "128/128 [==============================] - ETA: 0s - loss: 0.4529 - accuracy: 0.8411 - auc: 0.9687\n",
      "Epoch 4: val_loss did not improve from 0.45239\n",
      "128/128 [==============================] - 128s 993ms/step - loss: 0.4529 - accuracy: 0.8411 - auc: 0.9687 - val_loss: 0.6086 - val_accuracy: 0.7616 - val_auc: 0.9476 - lr: 3.0000e-04\n",
      "Epoch 5/10\n",
      "128/128 [==============================] - ETA: 0s - loss: 0.4466 - accuracy: 0.8431 - auc: 0.9692Restoring model weights from the end of the best epoch: 2.\n",
      "\n",
      "Epoch 5: ReduceLROnPlateau reducing learning rate to 9.000000427477062e-05.\n",
      "\n",
      "Epoch 5: val_loss did not improve from 0.45239\n",
      "128/128 [==============================] - 125s 974ms/step - loss: 0.4466 - accuracy: 0.8431 - auc: 0.9692 - val_loss: 0.5316 - val_accuracy: 0.8042 - val_auc: 0.9580 - lr: 3.0000e-04\n",
      "Epoch 5: early stopping\n",
      "64/64 [==============================] - 7s 113ms/step - loss: 0.4524 - accuracy: 0.8336 - auc: 0.9689\n",
      "Training CustomNet on Fold 4\n",
      "Epoch 1/10\n",
      "128/128 [==============================] - ETA: 0s - loss: 0.4657 - accuracy: 0.8388 - auc: 0.9667\n",
      "Epoch 1: val_loss improved from inf to 0.42762, saving model to CustomNet.h5\n",
      "128/128 [==============================] - 131s 1s/step - loss: 0.4657 - accuracy: 0.8388 - auc: 0.9667 - val_loss: 0.4276 - val_accuracy: 0.8472 - val_auc: 0.9717 - lr: 9.0000e-05\n",
      "Epoch 2/10\n",
      "128/128 [==============================] - ETA: 0s - loss: 0.4607 - accuracy: 0.8407 - auc: 0.9676\n",
      "Epoch 2: val_loss improved from 0.42762 to 0.37045, saving model to CustomNet.h5\n",
      "128/128 [==============================] - 125s 978ms/step - loss: 0.4607 - accuracy: 0.8407 - auc: 0.9676 - val_loss: 0.3705 - val_accuracy: 0.8751 - val_auc: 0.9794 - lr: 9.0000e-05\n",
      "Epoch 3/10\n",
      "128/128 [==============================] - ETA: 0s - loss: 0.4441 - accuracy: 0.8418 - auc: 0.9702\n",
      "Epoch 3: val_loss did not improve from 0.37045\n",
      "128/128 [==============================] - 125s 976ms/step - loss: 0.4441 - accuracy: 0.8418 - auc: 0.9702 - val_loss: 0.4011 - val_accuracy: 0.8658 - val_auc: 0.9755 - lr: 9.0000e-05\n",
      "Epoch 4/10\n",
      "128/128 [==============================] - ETA: 0s - loss: 0.4506 - accuracy: 0.8432 - auc: 0.9691\n",
      "Epoch 4: val_loss did not improve from 0.37045\n",
      "128/128 [==============================] - 125s 973ms/step - loss: 0.4506 - accuracy: 0.8432 - auc: 0.9691 - val_loss: 0.4501 - val_accuracy: 0.8315 - val_auc: 0.9691 - lr: 9.0000e-05\n",
      "Epoch 5/10\n",
      "128/128 [==============================] - ETA: 0s - loss: 0.4360 - accuracy: 0.8509 - auc: 0.9713Restoring model weights from the end of the best epoch: 2.\n",
      "\n",
      "Epoch 5: ReduceLROnPlateau reducing learning rate to 2.700000040931627e-05.\n",
      "\n",
      "Epoch 5: val_loss did not improve from 0.37045\n",
      "128/128 [==============================] - 125s 976ms/step - loss: 0.4360 - accuracy: 0.8509 - auc: 0.9713 - val_loss: 0.4321 - val_accuracy: 0.8330 - val_auc: 0.9712 - lr: 9.0000e-05\n",
      "Epoch 5: early stopping\n",
      "64/64 [==============================] - 7s 114ms/step - loss: 0.3705 - accuracy: 0.8751 - auc: 0.9794\n",
      "Training CustomNet on Fold 5\n",
      "Epoch 1/10\n",
      "128/128 [==============================] - ETA: 0s - loss: 0.4509 - accuracy: 0.8419 - auc: 0.9688\n",
      "Epoch 1: val_loss improved from inf to 0.37907, saving model to CustomNet.h5\n",
      "128/128 [==============================] - 131s 1s/step - loss: 0.4509 - accuracy: 0.8419 - auc: 0.9688 - val_loss: 0.3791 - val_accuracy: 0.8624 - val_auc: 0.9783 - lr: 2.7000e-05\n",
      "Epoch 2/10\n",
      "128/128 [==============================] - ETA: 0s - loss: 0.4481 - accuracy: 0.8443 - auc: 0.9696\n",
      "Epoch 2: val_loss did not improve from 0.37907\n",
      "128/128 [==============================] - 122s 948ms/step - loss: 0.4481 - accuracy: 0.8443 - auc: 0.9696 - val_loss: 0.4133 - val_accuracy: 0.8501 - val_auc: 0.9739 - lr: 2.7000e-05\n",
      "Epoch 3/10\n",
      "128/128 [==============================] - ETA: 0s - loss: 0.4449 - accuracy: 0.8479 - auc: 0.9701\n",
      "Epoch 3: val_loss did not improve from 0.37907\n",
      "128/128 [==============================] - 124s 967ms/step - loss: 0.4449 - accuracy: 0.8479 - auc: 0.9701 - val_loss: 0.4384 - val_accuracy: 0.8355 - val_auc: 0.9706 - lr: 2.7000e-05\n",
      "Epoch 4/10\n",
      "128/128 [==============================] - ETA: 0s - loss: 0.4425 - accuracy: 0.8448 - auc: 0.9703\n",
      "Epoch 4: val_loss improved from 0.37907 to 0.37282, saving model to CustomNet.h5\n",
      "128/128 [==============================] - 123s 960ms/step - loss: 0.4425 - accuracy: 0.8448 - auc: 0.9703 - val_loss: 0.3728 - val_accuracy: 0.8668 - val_auc: 0.9794 - lr: 2.7000e-05\n",
      "Epoch 5/10\n",
      "128/128 [==============================] - ETA: 0s - loss: 0.4374 - accuracy: 0.8507 - auc: 0.9710\n",
      "Epoch 5: val_loss improved from 0.37282 to 0.35047, saving model to CustomNet.h5\n",
      "128/128 [==============================] - 122s 951ms/step - loss: 0.4374 - accuracy: 0.8507 - auc: 0.9710 - val_loss: 0.3505 - val_accuracy: 0.8756 - val_auc: 0.9820 - lr: 2.7000e-05\n",
      "Epoch 6/10\n",
      "128/128 [==============================] - ETA: 0s - loss: 0.4328 - accuracy: 0.8531 - auc: 0.9719\n",
      "Epoch 6: val_loss did not improve from 0.35047\n",
      "128/128 [==============================] - 125s 972ms/step - loss: 0.4328 - accuracy: 0.8531 - auc: 0.9719 - val_loss: 0.3918 - val_accuracy: 0.8595 - val_auc: 0.9767 - lr: 2.7000e-05\n",
      "Epoch 7/10\n",
      "128/128 [==============================] - ETA: 0s - loss: 0.4340 - accuracy: 0.8501 - auc: 0.9715\n",
      "Epoch 7: val_loss did not improve from 0.35047\n",
      "128/128 [==============================] - 121s 946ms/step - loss: 0.4340 - accuracy: 0.8501 - auc: 0.9715 - val_loss: 0.3537 - val_accuracy: 0.8727 - val_auc: 0.9816 - lr: 2.7000e-05\n",
      "Epoch 8/10\n",
      "128/128 [==============================] - ETA: 0s - loss: 0.4325 - accuracy: 0.8544 - auc: 0.9716Restoring model weights from the end of the best epoch: 5.\n",
      "\n",
      "Epoch 8: ReduceLROnPlateau reducing learning rate to 8.100000013655517e-06.\n",
      "\n",
      "Epoch 8: val_loss did not improve from 0.35047\n",
      "128/128 [==============================] - 121s 947ms/step - loss: 0.4325 - accuracy: 0.8544 - auc: 0.9716 - val_loss: 0.4002 - val_accuracy: 0.8501 - val_auc: 0.9757 - lr: 2.7000e-05\n",
      "Epoch 8: early stopping\n",
      "64/64 [==============================] - 7s 112ms/step - loss: 0.3505 - accuracy: 0.8756 - auc: 0.9820\n",
      "Averaged metrics for CustomNet: Loss: 0.5023098051548004, Accuracy: 0.8230788707733154, AUC: 0.96188405752182\n",
      "Averaged metrics for CustomNet: Loss: 0.5023098051548004, Accuracy: 0.8230788707733154, AUC: 0.96188405752182\n",
      "54/54 [==============================] - 6s 111ms/step\n"
     ]
    },
    {
     "data": {
      "image/png": "[encoded data removed]",
      "text/plain": [
       "<Figure size 1600x1600 with 2 Axes>"
      ]
     },
     "metadata": {},
     "output_type": "display_data"
    },
    {
     "name": "stdout",
     "output_type": "stream",
     "text": [
      "Classification Report for CustomNet:\n",
      "              precision    recall  f1-score   support\n",
      "\n",
      "           0       0.93      0.64      0.76       399\n",
      "           1       0.75      0.70      0.72       421\n",
      "           2       0.80      0.97      0.88       510\n",
      "           3       0.84      0.95      0.89       374\n",
      "\n",
      "    accuracy                           0.82      1704\n",
      "   macro avg       0.83      0.82      0.81      1704\n",
      "weighted avg       0.83      0.82      0.82      1704\n",
      "\n"
     ]
    }
   ],
   "source": [
    "metrics = train_model_with_kfold(model, 'CustomNet', X_train, y_train, image_gen, n_splits=5, config=config)\n",
    "generate_single_report('CustomNet', metrics, model, X_test, y_test)"
   ]
  }
 ],
 "metadata": {
  "kernelspec": {
   "display_name": ".venv",
   "language": "python",
   "name": "python3"
  },
  "language_info": {
   "codemirror_mode": {
    "name": "ipython",
    "version": 3
   },
   "file_extension": ".py",
   "mimetype": "text/x-python",
   "name": "python",
   "nbconvert_exporter": "python",
   "pygments_lexer": "ipython3",
   "version": "3.11.1"
  }
 },
 "nbformat": 4,
 "nbformat_minor": 2
}
